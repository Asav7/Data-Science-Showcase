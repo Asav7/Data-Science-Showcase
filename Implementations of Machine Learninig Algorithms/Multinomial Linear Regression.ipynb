{
 "cells": [
  {
   "cell_type": "code",
   "execution_count": 1,
   "metadata": {
    "collapsed": true
   },
   "outputs": [],
   "source": [
    "import numpy as np\n",
    "from matplotlib import pyplot as plt\n",
    "\n",
    "plt.style.use(\"ggplot\")\n",
    "%matplotlib inline"
   ]
  },
  {
   "cell_type": "code",
   "execution_count": 10,
   "metadata": {
    "collapsed": false
   },
   "outputs": [],
   "source": [
    "n_samples = 200\n",
    "n_dims = 3\n",
    "x = np.random.randint(1, 6, n_dims * n_samples).reshape([n_dims, n_samples])"
   ]
  },
  {
   "cell_type": "code",
   "execution_count": 11,
   "metadata": {
    "collapsed": false
   },
   "outputs": [],
   "source": [
    "y = (10 + 0.5 * x[0] + 2 * x[1] - x[2])"
   ]
  },
  {
   "cell_type": "code",
   "execution_count": 12,
   "metadata": {
    "collapsed": false
   },
   "outputs": [],
   "source": [
    "x = np.insert(x, 0, 1, axis=0) # adding x0 = 1 for theta0"
   ]
  },
  {
   "cell_type": "code",
   "execution_count": 13,
   "metadata": {
    "collapsed": true
   },
   "outputs": [],
   "source": [
    "class LinReg(object):\n",
    "    \n",
    "    def __init__(self, iterations=1000, learning_rate=0.01):\n",
    "        self.iterations = iterations\n",
    "        self.learning_rate = learning_rate\n",
    "        self.x = None\n",
    "        self.y = None\n",
    "        self.w = None\n",
    "        self.costs = []\n",
    "        \n",
    "    def cost(self):\n",
    "        return np.sum((self.w.T @ self.x - self.y) ** 2)\n",
    "        \n",
    "    def fit(self, x, y):\n",
    "        self.x = x\n",
    "        self.y = y\n",
    "        if self.w is None:\n",
    "            self.w = np.empty((self.x.shape[0], 1))\n",
    "        for _ in range(self.iterations):\n",
    "            updated_w = np.ones_like(self.w)\n",
    "            for i, param in enumerate(self.w):\n",
    "                updated_w[i] = param - self.learning_rate * 1/self.x.shape[1] * (self.w.T @ self.x - self.y) @ self.x[i, :].T\n",
    "            self.w = updated_w\n",
    "            if _ % (self.iterations / 10) == 0:\n",
    "                self.costs.append(self.cost())\n",
    "                \n",
    "    def plot_costs(self):\n",
    "        plt.plot(self.costs)"
   ]
  },
  {
   "cell_type": "code",
   "execution_count": 25,
   "metadata": {
    "collapsed": true
   },
   "outputs": [],
   "source": [
    "mod = LinReg(iterations=5000, learning_rate=0.03)"
   ]
  },
  {
   "cell_type": "code",
   "execution_count": 26,
   "metadata": {
    "collapsed": false
   },
   "outputs": [],
   "source": [
    "mod.fit(x, y)"
   ]
  },
  {
   "cell_type": "code",
   "execution_count": 29,
   "metadata": {
    "collapsed": false
   },
   "outputs": [
    {
     "data": {
      "text/plain": [
       "array([[ 9.99],\n",
       "       [ 0.5 ],\n",
       "       [ 2.  ],\n",
       "       [-1.  ]])"
      ]
     },
     "execution_count": 29,
     "metadata": {},
     "output_type": "execute_result"
    }
   ],
   "source": [
    "np.round(mod.w, 2)"
   ]
  },
  {
   "cell_type": "code",
   "execution_count": 28,
   "metadata": {
    "collapsed": false
   },
   "outputs": [
    {
     "data": {
      "image/png": "[encoded data removed]",
      "text/plain": [
       "<matplotlib.figure.Figure at 0x1b46c33df60>"
      ]
     },
     "metadata": {},
     "output_type": "display_data"
    }
   ],
   "source": [
    "mod.plot_costs()"
   ]
  },
  {
   "cell_type": "code",
   "execution_count": null,
   "metadata": {
    "collapsed": true
   },
   "outputs": [],
   "source": []
  }
 ],
 "metadata": {
  "anaconda-cloud": {},
  "kernelspec": {
   "display_name": "Python [default]",
   "language": "python",
   "name": "python3"
  },
  "language_info": {
   "codemirror_mode": {
    "name": "ipython",
    "version": 3
   },
   "file_extension": ".py",
   "mimetype": "text/x-python",
   "name": "python",
   "nbconvert_exporter": "python",
   "pygments_lexer": "ipython3",
   "version": "3.5.2"
  }
 },
 "nbformat": 4,
 "nbformat_minor": 2
}
