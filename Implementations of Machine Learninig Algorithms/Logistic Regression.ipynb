{
 "cells": [
  {
   "cell_type": "code",
   "execution_count": 1,
   "metadata": {
    "collapsed": true
   },
   "outputs": [],
   "source": [
    "import numpy as np\n",
    "from matplotlib import pyplot as plt\n",
    "import seaborn as sns\n",
    "\n",
    "plt.style.use(\"ggplot\")\n",
    "%matplotlib inline"
   ]
  },
  {
   "cell_type": "markdown",
   "metadata": {},
   "source": [
    "Hypothesis function for logistic regression takes form $ h(\\theta) = \\frac{1}{1 \\ + \\ e^{\\ -\\theta^T x}} $"
   ]
  },
  {
   "cell_type": "markdown",
   "metadata": {},
   "source": [
    "With cost function defined as: $ Cost \\ (h_\\theta (x), \\ y) = - \\ y \\ log(h_\\theta (x)) \\ - \\ (1 - y) \\ log(1 - h_\\theta (x)) $"
   ]
  },
  {
   "cell_type": "code",
   "execution_count": 129,
   "metadata": {
    "collapsed": false
   },
   "outputs": [],
   "source": [
    "class LogReg(object):\n",
    "    \n",
    "    def __init__(self, iterations=1000, learning_rate=0.01):\n",
    "        self.iterations = iterations\n",
    "        self.learning_rate = learning_rate\n",
    "        self.x = None\n",
    "        self.y = None\n",
    "        self.w = None\n",
    "        self.costs = []\n",
    "        \n",
    "    def sigmoid(self, data=None):\n",
    "        if data is None:\n",
    "            data = self.x\n",
    "        return 1 / (1 + np.e ** (-self.w.T @ data))\n",
    "        \n",
    "    def cost(self):\n",
    "        return - self.y.T @ np.log(self.sigmoid()).T - (1 - self.y).T @ np.log(1 - self.sigmoid()).T\n",
    "        \n",
    "    def fit(self, x, y):\n",
    "        self.x = x\n",
    "        self.y = y\n",
    "        if self.w is None:\n",
    "            self.w = np.ones((self.x.shape[0], 1))\n",
    "        for _ in range(self.iterations):\n",
    "            updated_w = np.ones_like(self.w)\n",
    "            for i, param in enumerate(self.w):\n",
    "                updated_w[i] = param - self.learning_rate * 1/self.x.shape[1] * (self.sigmoid().T - self.y).T @ self.x[i, :].T\n",
    "            self.w = updated_w\n",
    "            if _ % (self.iterations / 100) == 0:\n",
    "                self.costs.append(np.sum(self.cost()))\n",
    "                \n",
    "    def plot_costs(self):\n",
    "        plt.plot(self.costs)\n",
    "        \n",
    "    def score(self, x_data, y_data):\n",
    "        predictions = (1 / (1 + np.e ** (-self.w.T @ x_data)).T > 0.5).astype(\"int\") == y_data\n",
    "        return np.sum(predictions) / len(predictions)"
   ]
  },
  {
   "cell_type": "markdown",
   "metadata": {},
   "source": [
    "Since above implementation of Logistic Regression algorithm is quite limited, it is necessary to heavily adjust the input data."
   ]
  },
  {
   "cell_type": "code",
   "execution_count": 120,
   "metadata": {
    "collapsed": true
   },
   "outputs": [],
   "source": [
    "titanic = sns.load_dataset(\"titanic\")\n",
    "titanic.drop([\"sex\", \"embarked\", \"class\", \"who\", \"deck\", \"embark_town\", \"alive\"], axis=1, inplace=True)\n",
    "titanic.dropna(inplace=True)\n",
    "y = titanic[\"survived\"]\n",
    "x = titanic.drop(\"survived\", axis=1)"
   ]
  },
  {
   "cell_type": "code",
   "execution_count": 7,
   "metadata": {
    "collapsed": true
   },
   "outputs": [],
   "source": [
    "from sklearn.model_selection import train_test_split\n",
    "X_train, X_test, y_train, y_test = train_test_split(x, y, test_size=0.2, random_state=42)"
   ]
  },
  {
   "cell_type": "code",
   "execution_count": 122,
   "metadata": {
    "collapsed": false
   },
   "outputs": [],
   "source": [
    "xm = X_train.values.T.astype('float')\n",
    "xm = np.insert(xm, 0, 1, axis=0)\n",
    "ym = y_train.values.reshape(len(y_train), 1)"
   ]
  },
  {
   "cell_type": "code",
   "execution_count": 130,
   "metadata": {
    "collapsed": true
   },
   "outputs": [],
   "source": [
    "mod = LogReg(iterations=10000, learning_rate=0.003)"
   ]
  },
  {
   "cell_type": "code",
   "execution_count": 131,
   "metadata": {
    "collapsed": false
   },
   "outputs": [
    {
     "name": "stderr",
     "output_type": "stream",
     "text": [
      "C:\\Users\\Albert\\Anaconda3\\lib\\site-packages\\ipykernel\\__main__.py:17: RuntimeWarning: divide by zero encountered in log\n"
     ]
    }
   ],
   "source": [
    "mod.fit(xm, ym)"
   ]
  },
  {
   "cell_type": "code",
   "execution_count": 132,
   "metadata": {
    "collapsed": false
   },
   "outputs": [
    {
     "data": {
      "image/png": "[encoded data removed]",
      "text/plain": [
       "<matplotlib.figure.Figure at 0x1c41a4d8f60>"
      ]
     },
     "metadata": {},
     "output_type": "display_data"
    }
   ],
   "source": [
    "mod.plot_costs()"
   ]
  },
  {
   "cell_type": "code",
   "execution_count": 134,
   "metadata": {
    "collapsed": false
   },
   "outputs": [
    {
     "data": {
      "text/plain": [
       "0.80419580419580416"
      ]
     },
     "execution_count": 134,
     "metadata": {},
     "output_type": "execute_result"
    }
   ],
   "source": [
    "x_t = X_test.values.astype(\"float\")\n",
    "x_t = np.insert(x_t, 0, 1, axis=1).T\n",
    "y_t = y_test.values.reshape(len(y_test), 1)\n",
    "mod.score(x_t, y_t)"
   ]
  },
  {
   "cell_type": "markdown",
   "metadata": {},
   "source": [
    "Let's compare that score with the score achieved (on the same data) by Logistic Regression model implemented in Scikit-learn, to see if it works acceptably well."
   ]
  },
  {
   "cell_type": "code",
   "execution_count": 71,
   "metadata": {
    "collapsed": true
   },
   "outputs": [],
   "source": [
    "from sklearn.linear_model import LogisticRegression"
   ]
  },
  {
   "cell_type": "code",
   "execution_count": 72,
   "metadata": {
    "collapsed": true
   },
   "outputs": [],
   "source": [
    "modsk = LogisticRegression()"
   ]
  },
  {
   "cell_type": "code",
   "execution_count": 73,
   "metadata": {
    "collapsed": false
   },
   "outputs": [
    {
     "data": {
      "text/plain": [
       "LogisticRegression(C=1.0, class_weight=None, dual=False, fit_intercept=True,\n",
       "          intercept_scaling=1, max_iter=100, multi_class='ovr', n_jobs=1,\n",
       "          penalty='l2', random_state=None, solver='liblinear', tol=0.0001,\n",
       "          verbose=0, warm_start=False)"
      ]
     },
     "execution_count": 73,
     "metadata": {},
     "output_type": "execute_result"
    }
   ],
   "source": [
    "modsk.fit(x, y)"
   ]
  },
  {
   "cell_type": "code",
   "execution_count": 75,
   "metadata": {
    "collapsed": false
   },
   "outputs": [
    {
     "data": {
      "text/plain": [
       "0.81818181818181823"
      ]
     },
     "execution_count": 75,
     "metadata": {},
     "output_type": "execute_result"
    }
   ],
   "source": [
    "modsk.score(X_test, y_test)"
   ]
  },
  {
   "cell_type": "markdown",
   "metadata": {},
   "source": [
    "Close enough ;)"
   ]
  }
 ],
 "metadata": {
  "anaconda-cloud": {},
  "kernelspec": {
   "display_name": "Python [default]",
   "language": "python",
   "name": "python3"
  },
  "language_info": {
   "codemirror_mode": {
    "name": "ipython",
    "version": 3
   },
   "file_extension": ".py",
   "mimetype": "text/x-python",
   "name": "python",
   "nbconvert_exporter": "python",
   "pygments_lexer": "ipython3",
   "version": "3.5.2"
  }
 },
 "nbformat": 4,
 "nbformat_minor": 2
}
