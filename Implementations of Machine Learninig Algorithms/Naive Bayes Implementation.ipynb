{
 "cells": [
  {
   "cell_type": "markdown",
   "metadata": {},
   "source": [
    "# Implementation of Naive Bayes Algoritm (Gaussian)"
   ]
  },
  {
   "cell_type": "code",
   "execution_count": 1,
   "metadata": {
    "collapsed": true
   },
   "outputs": [],
   "source": [
    "import numpy as np\n",
    "import pandas as pd\n",
    "import seaborn as sns\n",
    "from sklearn.model_selection import train_test_split\n",
    "from scipy.stats import norm"
   ]
  },
  {
   "cell_type": "code",
   "execution_count": 2,
   "metadata": {
    "collapsed": false
   },
   "outputs": [],
   "source": [
    "class Bayes():\n",
    "    \n",
    "    def __init__(self, priors=None):\n",
    "        \"\"\"Implementation of Gaussian Naive Bayes Classifier\"\"\"\n",
    "        self.means_dict = {}  # this dictionary will be filled as follows 'class_n name': 'features' means for class_n'\n",
    "        self.stds_dict = {}  # this dictionary will be filled as follows 'class_n name': 'features' standard deviations for class_n'\n",
    "        self.priors = priors  # dictionary with prior probabilities\n",
    "        self.classes = []  # list of unique class names\n",
    "        self.scores = None\n",
    "    \n",
    "    def _create_class_stats_dict(self, x_data, y_data):\n",
    "        \"\"\"Creates dictionaries with calculated means and standard deviations for every feature in dataset\"\"\"\n",
    "        for class_ in self.classes:\n",
    "            self.means_dict[class_] = np.mean(x_data[y_data == class_], axis=0)\n",
    "            self.stds_dict[class_] = np.std(x_data[y_data == class_], axis=0, ddof=1)\n",
    "            \n",
    "    def fit(self, x_data, y_data):\n",
    "        \"\"\"Takes numpy arrays, recognizes unique classes and creates priors dictionary if necessary\"\"\"\n",
    "        self.classes, counts = np.unique(y_data, return_counts=True)\n",
    "        self._create_class_stats_dict(x_data, y_data)\n",
    "        \n",
    "        if not self.priors:\n",
    "            self.priors = dict(zip(self.classes, counts/counts.sum()))\n",
    "            \n",
    "    def _get_scores(self, data):\n",
    "        \"\"\"Calculates scores for given data points. Each score is calculated as a product of pdf functions values.\n",
    "        Each pdf function is generated with assumption, that feature has normal distribution with mean and standard \n",
    "        deviation well reflected by the training data.\"\"\"\n",
    "        self.scores = np.empty(shape=(0, len(self.classes)))\n",
    "        for vector in data:\n",
    "            c_score = []\n",
    "            for class_ in self.classes:\n",
    "                score_for_class = self.priors[class_]\n",
    "                for feature_index, value in enumerate(vector):\n",
    "                    score_for_class *= norm(loc=self.means_dict[class_][feature_index], \n",
    "                                            scale=self.stds_dict[class_][feature_index]).pdf(value)\n",
    "                c_score.append(score_for_class)\n",
    "            self.scores = np.append(self.scores, [c_score], axis=0)\n",
    "        return self.scores\n",
    "\n",
    "    def predict(self, data):\n",
    "        \"\"\"Predicts class of given data\"\"\"\n",
    "        self._get_scores(data)\n",
    "        return np.vectorize(lambda x: self.classes[x])(np.argmax(self.scores, axis=1))\n",
    "    \n",
    "    def score(self, data, labels):\n",
    "        \"\"\"Returns the mean accuracy on the given data and labels\"\"\"\n",
    "        return np.sum(np.equal(self.predict(data), labels)) / len(labels)"
   ]
  },
  {
   "cell_type": "markdown",
   "metadata": {},
   "source": [
    "The above implementation is quite limited, but anyway let's test it on some data."
   ]
  },
  {
   "cell_type": "code",
   "execution_count": 3,
   "metadata": {
    "collapsed": false
   },
   "outputs": [
    {
     "data": {
      "text/html": [
       "<div>\n",
       "<style>\n",
       "    .dataframe thead tr:only-child th {\n",
       "        text-align: right;\n",
       "    }\n",
       "\n",
       "    .dataframe thead th {\n",
       "        text-align: left;\n",
       "    }\n",
       "\n",
       "    .dataframe tbody tr th {\n",
       "        vertical-align: top;\n",
       "    }\n",
       "</style>\n",
       "<table border=\"1\" class=\"dataframe\">\n",
       "  <thead>\n",
       "    <tr style=\"text-align: right;\">\n",
       "      <th></th>\n",
       "      <th>sepal_length</th>\n",
       "      <th>sepal_width</th>\n",
       "      <th>petal_length</th>\n",
       "      <th>petal_width</th>\n",
       "      <th>species</th>\n",
       "    </tr>\n",
       "  </thead>\n",
       "  <tbody>\n",
       "    <tr>\n",
       "      <th>0</th>\n",
       "      <td>5.1</td>\n",
       "      <td>3.5</td>\n",
       "      <td>1.4</td>\n",
       "      <td>0.2</td>\n",
       "      <td>setosa</td>\n",
       "    </tr>\n",
       "    <tr>\n",
       "      <th>1</th>\n",
       "      <td>4.9</td>\n",
       "      <td>3.0</td>\n",
       "      <td>1.4</td>\n",
       "      <td>0.2</td>\n",
       "      <td>setosa</td>\n",
       "    </tr>\n",
       "    <tr>\n",
       "      <th>2</th>\n",
       "      <td>4.7</td>\n",
       "      <td>3.2</td>\n",
       "      <td>1.3</td>\n",
       "      <td>0.2</td>\n",
       "      <td>setosa</td>\n",
       "    </tr>\n",
       "  </tbody>\n",
       "</table>\n",
       "</div>"
      ],
      "text/plain": [
       "   sepal_length  sepal_width  petal_length  petal_width species\n",
       "0           5.1          3.5           1.4          0.2  setosa\n",
       "1           4.9          3.0           1.4          0.2  setosa\n",
       "2           4.7          3.2           1.3          0.2  setosa"
      ]
     },
     "execution_count": 3,
     "metadata": {},
     "output_type": "execute_result"
    }
   ],
   "source": [
    "iris = sns.load_dataset('iris')\n",
    "iris.head(3)"
   ]
  },
  {
   "cell_type": "code",
   "execution_count": 4,
   "metadata": {
    "collapsed": true
   },
   "outputs": [],
   "source": [
    "y_iris = iris['species']\n",
    "iris.drop('species', axis=1, inplace=True)\n",
    "X_train, X_test, y_train, y_test = train_test_split(iris, y_iris, test_size=.3, random_state=42)"
   ]
  },
  {
   "cell_type": "code",
   "execution_count": 5,
   "metadata": {
    "collapsed": false
   },
   "outputs": [
    {
     "data": {
      "text/plain": [
       "0.97777777777777775"
      ]
     },
     "execution_count": 5,
     "metadata": {},
     "output_type": "execute_result"
    }
   ],
   "source": [
    "model = Bayes()\n",
    "model.fit(X_train.values, y_train.values)\n",
    "model.score(X_test.values, y_test.values)"
   ]
  },
  {
   "cell_type": "markdown",
   "metadata": {},
   "source": [
    "Let's compare this accuracy score with Gaussian Naive Bayes implementation form Scikit-learn to see if I haven't made some conspicuous mistakes."
   ]
  },
  {
   "cell_type": "code",
   "execution_count": 7,
   "metadata": {
    "collapsed": true
   },
   "outputs": [],
   "source": [
    "from sklearn.naive_bayes import GaussianNB"
   ]
  },
  {
   "cell_type": "code",
   "execution_count": 13,
   "metadata": {
    "collapsed": false
   },
   "outputs": [
    {
     "data": {
      "text/plain": [
       "0.97777777777777775"
      ]
     },
     "execution_count": 13,
     "metadata": {},
     "output_type": "execute_result"
    }
   ],
   "source": [
    "sklearn_model = GaussianNB()\n",
    "sklearn_model.fit(X_train, y_train)\n",
    "sklearn_model.score(X_test, y_test)"
   ]
  },
  {
   "cell_type": "markdown",
   "metadata": {},
   "source": [
    "No complaints here ;)"
   ]
  }
 ],
 "metadata": {
  "anaconda-cloud": {},
  "kernelspec": {
   "display_name": "Python [default]",
   "language": "python",
   "name": "python3"
  },
  "language_info": {
   "codemirror_mode": {
    "name": "ipython",
    "version": 3
   },
   "file_extension": ".py",
   "mimetype": "text/x-python",
   "name": "python",
   "nbconvert_exporter": "python",
   "pygments_lexer": "ipython3",
   "version": "3.5.2"
  }
 },
 "nbformat": 4,
 "nbformat_minor": 1
}
